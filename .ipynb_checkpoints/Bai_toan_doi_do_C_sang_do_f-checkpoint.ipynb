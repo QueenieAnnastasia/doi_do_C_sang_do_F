{
 "cells": [
  {
   "cell_type": "code",
   "execution_count": 1,
   "id": "5ab2e674",
   "metadata": {},
   "outputs": [
    {
     "name": "stdout",
     "output_type": "stream",
     "text": [
      "Nhập độ C: 100\n",
      "Độ F đổi sang = 212.0\n"
     ]
    }
   ],
   "source": [
    "import math\n",
    "C = float(input(\"Nhập độ C: \"))\n",
    "F = 1.8*C + 32\n",
    "print(\"Độ F đổi sang =\", F)"
   ]
  }
 ],
 "metadata": {
  "kernelspec": {
   "display_name": "Python 3 (ipykernel)",
   "language": "python",
   "name": "python3"
  },
  "language_info": {
   "codemirror_mode": {
    "name": "ipython",
    "version": 3
   },
   "file_extension": ".py",
   "mimetype": "text/x-python",
   "name": "python",
   "nbconvert_exporter": "python",
   "pygments_lexer": "ipython3",
   "version": "3.10.5"
  }
 },
 "nbformat": 4,
 "nbformat_minor": 5
}
